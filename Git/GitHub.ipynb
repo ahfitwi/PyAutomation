{
 "cells": [
  {
   "cell_type": "markdown",
   "metadata": {},
   "source": [
    "### Compiled by :\n",
    "      Alem H Fitwi, \n",
    "      PhD Student, ECE (Privacy, ML/DNN, & Chaotic Encryption)\n",
    "      GA-Data Analystics Specialist,\n",
    "      Binghamton University-State University of New York\n",
    "      Since August, 2017 "
   ]
  },
  {
   "cell_type": "markdown",
   "metadata": {},
   "source": [
    "## Source Control Experiences\n",
    "- CVS, SVN, Star Team, ClearCase, TFS, VSS\n",
    "- Git"
   ]
  },
  {
   "cell_type": "markdown",
   "metadata": {},
   "source": [
    "# 1. Introduction\n",
    "## 1.1 Background\n",
    "- What is Git?\n",
    "    - A distributed source control system\n",
    "        - Not required to be decentralized (most people use it with a centralized server.)\n",
    "- Massively scales cos it is distributed\n",
    "- Developed for Linux project requirments\n",
    "- Most operations are local because of its distributed nature.\n",
    "    - Most Git commands are local, there are only very few commands that need network connection.\n",
    "    - You can work completely disconnected.\n",
    "- Very fast cos most operations are lcoal\n",
    "- Also git is free and open-source, which contributes to its popularity.\n",
    "- Active community\n",
    "- Most popular DVCS, VCS"
   ]
  },
  {
   "cell_type": "markdown",
   "metadata": {},
   "source": [
    "## 1.2 Core Concepts\n",
    "- Repository contains files, history, and config managed by Git\n",
    "<img src = \"./figs/git1.png\">\n",
    "\n",
    "- Three states of Git specific to the local repositiry are:\n",
    "    1. Working directory: the folder or directory on your computer that holds all the project or application files.\n",
    "        - Files within the working directory may or may not be managed by github; but it is aware of them.        \n",
    "    2. Staging area: pre-commit holding area\n",
    "        - Queuing up area for next commit\n",
    "        - For files here are not committed yet, you can move them in and out.\n",
    "    3. Commit: Git Repository (history)\n",
    "        - Normally, there is a hidden folder called .git folder with in the working directory, that contains the actual git repository. It manages the commits\n",
    " <img src = \"./figs/git2.png\">\n",
    " \n",
    "- Remote Repository (GitHub), with its own 3 similar states\n",
    "- Master Branch: \n",
    "    - Git provides us with a default branch named master.\n",
    "    - A timeline that contains your changes."
   ]
  },
  {
   "cell_type": "markdown",
   "metadata": {},
   "source": [
    " \n",
    "# 4. Going Command Line\n",
    "- Strong history with the Github CL\n",
    "- New features make it to the CLI first\n",
    "- Easy online helps\n",
    "- It has more power, GUI only implement the core ones.\n",
    "- Consistent\n",
    "    - Terminal on Mac/Linux\n",
    "    - Git Bash on windows\n"
   ]
  },
  {
   "cell_type": "markdown",
   "metadata": {},
   "source": [
    " ## 2.2 Installing Git for Windows\n",
    "- Download the Latest version of Github from\n",
    "    - git-for-windows.github.in\n",
    "    - 64/32 bit version of git for windows, chose the right one\n",
    "    - Download and install it by granting access\n",
    "        - Use Git from Git bash only\n",
    "        - Use git from the Windows command prompt (choose this)\n",
    "        - USe Git and optional unix tools from the Windows command prompt\n",
    "    - Configure the line ending conversations\n",
    "        - Checkout Windows-style, commit Unix-style line endings\n",
    "        - Checkout as-is, commit Unix-style line endings (choose this)\n",
    "        - Checkout as-is, commit as-is\n",
    "    - Configuring the terminal emulator to use with Git Bash\n",
    "        - Use MinTTY (the default terminal of MSys2) (choose this)\n",
    "            - Terminal emulator program\n",
    "        - Use Windows' default console window\n",
    "    - Configuring experimental performance tweaks:\n",
    "        - Enable file systems caching (Leave it unchecked)\n",
    "- At last uncheck the view ReleaseNotes.html and click finish\n",
    "    - Verify the installation with an icon on start menu\n",
    "    - Click on git-bash and chekc the version\n",
    "    \n",
    "            > git version\n",
    "            > exit"
   ]
  },
  {
   "cell_type": "markdown",
   "metadata": {},
   "source": [
    "# 2. Installation\n",
    "## 2.1 Installation overview\n",
    "- Windows:\n",
    "    - Git for Windows (git-scm.com) needs to be downlaoded\n",
    "- Mac OS X\n",
    "    - Yosemite or later, easy path: \"git-version\"\n",
    "- Git commands willbe the same\n",
    "    - Only Text Editors will  be different\n",
    "        - Mac: Text Mate 2 (free download)\n",
    "        - Windows: Notepad is okay  "
   ]
  },
  {
   "cell_type": "markdown",
   "metadata": {},
   "source": [
    "           \n",
    "## 2.3 Installing Apple Git, Git on Mac\n",
    "- On Mac/Linux, type \"git version\"  to check whether Git has been isnstalled or not. If installed, it will display the version.\n",
    "\n",
    "        (base) alem@alem-HP-Pavilion-x360-Convertible:~$ git version\n",
    "        git version 2.17.1\n",
    "\n",
    "- On Mac, after running the get version command, it it doesn't exist, it will prompt you with a popup window.\n",
    "    - It has an option of install. Click install and you are all set.\n",
    "    \n",
    "    git version\n",
    "    \n",
    "    git version x.y.z (Apple Git-55), a qualifier is added for Apple"
   ]
  },
  {
   "cell_type": "markdown",
   "metadata": {},
   "source": [
    "# 3. Basic Git Workflow with Github\n",
    "## 3.1 Welcome to Github\n",
    "- Login to github (username and password) https://github.com/\n",
    "    - ahfitwi@gmail.com\n",
    "    - Create a new repo\n",
    "        - New\n",
    "        - Repository name: jan04ahf\n",
    "        - Public\n",
    "        - Initiate ReadMe file\n",
    "        - Create Repo\n",
    "        - Then, you will land on the main repository land"
   ]
  },
  {
   "cell_type": "markdown",
   "metadata": {},
   "source": [
    "## 3.2 Setup project Fiolder  \n",
    "- On Windows use:\n",
    "    - Git Bash (Git for Windows)\n",
    "-  On Mac, use:\n",
    "    - Terminal or a 3rd paty program iTerm2 (iterm2.com)\n",
    "- Either way the git commands willbe the same\n",
    "- Linux: Git Use\n",
    "    1. go to your github account and create a folder, jan04ahf\n",
    "    2. Create the same folder on your local machine\n",
    "    \n",
    "            mkdir jan04ahf\n",
    "    2. cd to that folder of your project (jan04ahf), on your local machine\n",
    "    \n",
    "            cd /.../jan04ahf\n",
    "            pwd            /home/alem/0_Alem/alemprojects/FinalNotes/1.8_GitHub/jan04ahf\n",
    "\n",
    "    3. type git init\n",
    "    \n",
    "            git init\n",
    "    \n",
    "           Initialized empty Git repository in /home/alem/0_Alem/alemprojects/FinalNotes/1.8_GitHub/jan04ahf/.git/\n",
    "\n",
    "    4. setup the remote\n",
    "        \n",
    "            git remote add origin https://github.com/ahfitwi/jan04ahf.git\n",
    "    5. Add a file\n",
    "            \n",
    "            git add alem.c\n",
    "            \n",
    " ## 3.3 Git configuration (username and email)\n",
    " - \\$ git config --global user.name \"Alem Fitwi\"\n",
    " - \\$ git config --global user.email \"ahfitwi@gmail.com\"\n",
    " - \\$ git config --global --list \n",
    " \n",
    "         user.name=Alem Fitwi\n",
    "         user.email=ahfitwi@gmail.com"
   ]
  },
  {
   "cell_type": "markdown",
   "metadata": {},
   "source": [
    "## 3.4 Copy/clone the Repository from Github to Your System\n",
    "- git clone https://github.com/ahfitwi/jan04ahf.git\n",
    "    - Git goes to git hub and make a full copy of my repository\n",
    "\n",
    "           Cloning into 'jan04ahf'...\n",
    "           remote: Enumerating objects: 3, done.\n",
    "           remote: Counting objects: 100% (3/3), done.\n",
    "           remote: Total 3 (delta 0), reused 0 (delta 0), pack-reused 0\n",
    "           Unpacking objects: 100% (3/3), done.\n",
    "- jan04ahf\\$ ls\n",
    "\n",
    "            jan04ahf\n",
    "- jan04ahf\\$ cd jan04ahf\n",
    "- jan04ahf/jan04ahf\\$ ls\n",
    "\n",
    "            README.md\n",
    "- Check status of the repository, using git status command\n",
    "\n",
    "            git status\n",
    "            \n",
    "            On branch main\n",
    "            Your branch is up to date with 'origin/main'.\n",
    "\n",
    "            nothing to commit, working tree clean\n",
    "- We use the \"git status\" command to see if there are any changes between the owrking directory, staging area or local repository, and our remote repository."
   ]
  },
  {
   "cell_type": "markdown",
   "metadata": {},
   "source": [
    "## 3.4 The First Commit\n",
    "- Create a file and add it to git hub\n",
    "\n",
    "    echo \"Alem New Project as of Jan 04, 22\">> new_proj.txt\n",
    "    cat new_proj.txt\n",
    "    \n",
    "        Alem New Project as of Jan 04, 22\n",
    "- git status\n",
    "\n",
    "        On branch main\n",
    "        Your branch is up to date with 'origin/main'.\n",
    "\n",
    "        Untracked files:\n",
    "          (use \"git add <file>...\" to include in what will be committed)\n",
    "\n",
    "                new_proj.txt\n",
    "\n",
    "        nothing added to commit but untracked files present (use \"git add\" to track)\n"
   ]
  },
  {
   "cell_type": "markdown",
   "metadata": {},
   "source": [
    "- Add the new file to commit using\n",
    "    - git add new_proj.txt\n",
    "- git status\n",
    "\n",
    "        On branch main\n",
    "        Your branch is up to date with 'origin/main'.\n",
    "\n",
    "        Changes to be committed:\n",
    "          (use \"git reset HEAD <file>...\" to unstage)\n",
    "\n",
    "        new file:   new_proj.txt\n",
    "    - Git tells us that there a new file in staging area, which git describe sas changes to be committed."
   ]
  },
  {
   "cell_type": "markdown",
   "metadata": {},
   "source": [
    "- The staging area allows you to group several related things so that they can be commtted as a single atomic unit.\n",
    "- Now let us move forward by committing the new file into the repository\n",
    "        - git commit -m \"adding new_proj text file\"\n",
    "        \n",
    "                [main bab4b96] Adding a new_proj text file\n",
    "                1 file changed, 1 insertion(+)\n",
    "                create mode 100644 new_proj.txt\n",
    "- Now check the status:\n",
    "    - git status\n",
    "    \n",
    "            On branch main\n",
    "            Your branch is ahead of 'origin/main' by 1 commit.\n",
    "              (use \"git push\" to publish your local commits)\n",
    "\n",
    "            nothing to commit, working tree clean            "
   ]
  },
  {
   "cell_type": "markdown",
   "metadata": {},
   "source": [
    "## 3.5 Publishing changes back to github\n",
    "- The commit is still a local command; as a result, the committed changes are still in the local directory. Hence, they need to be pushsed to the remote github.\n",
    "    - The files or changes are not yet on github.\n",
    "    - refresh/or relaod on github and see if there is any change. You won't see any change on the github ubtil this point.\n",
    "- Then, push the changes to guthub\n",
    "    - git push origin main \n",
    "        - **origin**: refers to the GitHUb copy of our repository\n",
    "        - **main**: refers to our default and only branch in the repository\n",
    "    - github will prompt you for your username and password.\n",
    "    \n",
    "            jan04ahf/jan04ahf$ git push origin main\n",
    "            Username for 'https://github.com': ahfitwi@gmail.com\n",
    "            Password for 'https://ahfitwi@gmail.com@github.com': \n",
    "            remote: Support for password authentication was removed on August 13, 2021. Please use a personal access token instead.\n",
    "            remote: Please see https://github.blog/2020-12-15-token-authentication-requirements-for-git-operations/ for more information.\n",
    "            fatal: Authentication failed for 'https://github.com/ahfitwi/jan04ahf.git/'\n",
    "- If things work correctly, you should be able to see the file on your repository."
   ]
  },
  {
   "cell_type": "markdown",
   "metadata": {},
   "source": [
    "# 4. Conclusion\n",
    "- Git introduction / Key Concepts\n",
    "- GitHub Introduction\n",
    "    - Sign-up\n",
    "    - Created a Repository\n",
    "- Basic Workflow\n",
    "    - Clone\n",
    "    - Create/Edit Files\n",
    "    - Staging Area\n",
    "    - Commit\n",
    "    - Pull & Push"
   ]
  },
  {
   "cell_type": "markdown",
   "metadata": {},
   "source": [
    "                        ~End~"
   ]
  }
 ],
 "metadata": {
  "kernelspec": {
   "display_name": "Python 3",
   "language": "python",
   "name": "python3"
  },
  "language_info": {
   "codemirror_mode": {
    "name": "ipython",
    "version": 3
   },
   "file_extension": ".py",
   "mimetype": "text/x-python",
   "name": "python",
   "nbconvert_exporter": "python",
   "pygments_lexer": "ipython3",
   "version": "3.7.4"
  }
 },
 "nbformat": 4,
 "nbformat_minor": 4
}
